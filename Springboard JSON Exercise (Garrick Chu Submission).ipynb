{
 "cells": [
  {
   "cell_type": "markdown",
   "metadata": {},
   "source": [
    "\n",
    "JSON exercise\n",
    "\n",
    "Using data in file 'data/world_bank_projects.json' and the techniques demonstrated above,\n",
    "\n",
    "    Find the 10 countries with most projects\n",
    "    Find the top 10 major project themes (using column 'mjtheme_namecode')\n",
    "    In 2. above you will notice that some entries have only the code and the name is missing. Create a dataframe with the missing names filled in.\n",
    "\n"
   ]
  },
  {
   "cell_type": "code",
   "execution_count": 3,
   "metadata": {
    "collapsed": true
   },
   "outputs": [],
   "source": [
    "#import the relevant libraries and packages\n",
    "import pandas as pd\n",
    "import json\n",
    "from pandas.io.json import json_normalize\n",
    "\n",
    "#as cell is static, also define reference to local file\n",
    "world_bank_json = r'''C:\\\\Users\\\\Garrick\\\\Documents\\\\Springboard\\\\Curriculum\\\\Section 5 - Data Wrangling\\\\Project Work on JSON Based Data Exercises and Submit on Your Github\\\\data_wrangling_json\\\\data_wrangling_json\\\\data\\\\world_bank_projects.json'''"
   ]
  },
  {
   "cell_type": "markdown",
   "metadata": {},
   "source": [
    "Objective 1:  Find the 10 countries with most projects"
   ]
  },
  {
   "cell_type": "code",
   "execution_count": 4,
   "metadata": {},
   "outputs": [
    {
     "name": "stdout",
     "output_type": "stream",
     "text": [
      "<class 'list'>\n",
      "500\n",
      "<class 'dict'>\n",
      "dict_keys(['sector', 'supplementprojectflg', 'projectfinancialtype', 'prodline', 'mjtheme', 'idacommamt', 'impagency', 'project_name', 'mjthemecode', 'closingdate', 'totalcommamt', 'id', 'mjsector_namecode', 'docty', 'sector1', 'lendinginstr', 'countrycode', 'sector2', 'totalamt', 'mjtheme_namecode', 'boardapprovaldate', 'countryshortname', 'sector4', 'prodlinetext', 'productlinetype', 'regionname', 'status', 'country_namecode', 'envassesmentcategorycode', 'project_abstract', 'approvalfy', 'projectdocs', 'lendprojectcost', 'lendinginstrtype', 'theme1', 'grantamt', 'themecode', 'borrower', 'sectorcode', 'sector3', 'majorsector_percent', 'board_approval_month', 'theme_namecode', 'countryname', 'url', 'source', 'projectstatusdisplay', 'ibrdcommamt', 'sector_namecode', '_id'])\n"
     ]
    }
   ],
   "source": [
    "#opening the JSON file in \"read-only\" mode using a context manager\n",
    "with open(world_bank_json, 'r') as json_file:\n",
    "    wb_json_data = json.load(json_file)\n",
    "    \n",
    "#checking to see the structure of the loaded World Bank data\n",
    "print(type(wb_json_data))\n",
    "\n",
    "#as the object appears to be a list, let's examine the number of items in the list\n",
    "print(len(wb_json_data))\n",
    "\n",
    "#diving further what each element contains\n",
    "print(type(wb_json_data[0]))\n",
    "\n",
    "#appears object is a list of dictionaries/key-value pairs. let's further explore the contents...\n",
    "print(wb_json_data[0].keys())\n",
    "\n",
    "#as a result, our object is a list of 500 projects with the below dictionary keys"
   ]
  },
  {
   "cell_type": "code",
   "execution_count": 5,
   "metadata": {},
   "outputs": [
    {
     "name": "stdout",
     "output_type": "stream",
     "text": [
      "                   _id.$oid approvalfy board_approval_month  \\\n",
      "0  52b213b38594d8a2be17c780       1999             November   \n",
      "1  52b213b38594d8a2be17c781       2015             November   \n",
      "2  52b213b38594d8a2be17c782       2014             November   \n",
      "3  52b213b38594d8a2be17c783       2014              October   \n",
      "4  52b213b38594d8a2be17c784       2014              October   \n",
      "5  52b213b38594d8a2be17c785       2014              October   \n",
      "6  52b213b38594d8a2be17c786       2014              October   \n",
      "7  52b213b38594d8a2be17c787       2014              October   \n",
      "8  52b213b38594d8a2be17c788       2014              October   \n",
      "9  52b213b38594d8a2be17c789       2014              October   \n",
      "\n",
      "      boardapprovaldate                                 borrower  \\\n",
      "0  2013-11-12T00:00:00Z  FEDERAL DEMOCRATIC REPUBLIC OF ETHIOPIA   \n",
      "1  2013-11-04T00:00:00Z                    GOVERNMENT OF TUNISIA   \n",
      "2  2013-11-01T00:00:00Z   MINISTRY OF FINANCE AND ECONOMIC DEVEL   \n",
      "3  2013-10-31T00:00:00Z   MIN. OF PLANNING AND INT'L COOPERATION   \n",
      "4  2013-10-31T00:00:00Z                      MINISTRY OF FINANCE   \n",
      "5  2013-10-31T00:00:00Z                        REPUBLIC OF KENYA   \n",
      "6  2013-10-29T00:00:00Z                      GOVERNMENT OF INDIA   \n",
      "7  2013-10-29T00:00:00Z               PEOPLE'S REPUBLIC OF CHINA   \n",
      "8  2013-10-29T00:00:00Z                  THE GOVERNMENT OF INDIA   \n",
      "9  2013-10-29T00:00:00Z                   THE KINGDOM OF MOROCCO   \n",
      "\n",
      "            closingdate                              country_namecode  \\\n",
      "0  2018-07-07T00:00:00Z  Federal Democratic Republic of Ethiopia!$!ET   \n",
      "1                   NaN                      Republic of Tunisia!$!TN   \n",
      "2                   NaN                                   Tuvalu!$!TV   \n",
      "3                   NaN                        Republic of Yemen!$!RY   \n",
      "4  2019-04-30T00:00:00Z                       Kingdom of Lesotho!$!LS   \n",
      "5                   NaN                        Republic of Kenya!$!KE   \n",
      "6  2019-06-30T00:00:00Z                        Republic of India!$!IN   \n",
      "7                   NaN               People's Republic of China!$!CN   \n",
      "8  2018-12-31T00:00:00Z                        Republic of India!$!IN   \n",
      "9  2014-12-31T00:00:00Z                       Kingdom of Morocco!$!MA   \n",
      "\n",
      "  countrycode                              countryname    countryshortname  \\\n",
      "0          ET  Federal Democratic Republic of Ethiopia            Ethiopia   \n",
      "1          TN                      Republic of Tunisia             Tunisia   \n",
      "2          TV                                   Tuvalu              Tuvalu   \n",
      "3          RY                        Republic of Yemen  Yemen, Republic of   \n",
      "4          LS                       Kingdom of Lesotho             Lesotho   \n",
      "5          KE                        Republic of Kenya               Kenya   \n",
      "6          IN                        Republic of India               India   \n",
      "7          CN               People's Republic of China               China   \n",
      "8          IN                        Republic of India               India   \n",
      "9          MA                       Kingdom of Morocco             Morocco   \n",
      "\n",
      "                         ...                         source  status  \\\n",
      "0                        ...                           IBRD  Active   \n",
      "1                        ...                           IBRD  Active   \n",
      "2                        ...                           IBRD  Active   \n",
      "3                        ...                           IBRD  Active   \n",
      "4                        ...                           IBRD  Active   \n",
      "5                        ...                           IBRD  Active   \n",
      "6                        ...                           IBRD  Active   \n",
      "7                        ...                           IBRD  Active   \n",
      "8                        ...                           IBRD  Active   \n",
      "9                        ...                           IBRD  Active   \n",
      "\n",
      "   supplementprojectflg                              theme1.Name  \\\n",
      "0                     N                        Education for all   \n",
      "1                     N                Other economic management   \n",
      "2                     Y                     Regional integration   \n",
      "3                     N       Participation and civic engagement   \n",
      "4                     N   Export development and competitiveness   \n",
      "5                     Y                       Social safety nets   \n",
      "6                     N  Administrative and civil service reform   \n",
      "7                     N                           Climate change   \n",
      "8                     N                  Other rural development   \n",
      "9                     N     Other accountability/anti-corruption   \n",
      "\n",
      "  theme1.Percent                                     theme_namecode  \\\n",
      "0            100      [{'code': '65', 'name': 'Education for all'}]   \n",
      "1             30  [{'code': '24', 'name': 'Other economic manage...   \n",
      "2             46  [{'code': '47', 'name': 'Regional integration'...   \n",
      "3             50  [{'code': '57', 'name': 'Participation and civ...   \n",
      "4             30  [{'code': '45', 'name': 'Export development an...   \n",
      "5            100     [{'code': '54', 'name': 'Social safety nets'}]   \n",
      "6             20  [{'code': '25', 'name': 'Administrative and ci...   \n",
      "7            100         [{'code': '81', 'name': 'Climate change'}]   \n",
      "8             87  [{'code': '79', 'name': 'Other rural developme...   \n",
      "9             33  [{'code': '29', 'name': 'Other accountability/...   \n",
      "\n",
      "     themecode   totalamt totalcommamt  \\\n",
      "0           65  130000000    130000000   \n",
      "1        54,24          0      4700000   \n",
      "2  52,81,25,47    6060000      6060000   \n",
      "3        59,57          0      1500000   \n",
      "4        41,45   13100000     13100000   \n",
      "5           54   10000000     10000000   \n",
      "6        39,25  500000000    500000000   \n",
      "7           81          0     27280000   \n",
      "8           79  160000000    160000000   \n",
      "9     27,30,29  200000000    200000000   \n",
      "\n",
      "                                                 url  \n",
      "0  http://www.worldbank.org/projects/P129828/ethi...  \n",
      "1  http://www.worldbank.org/projects/P144674?lang=en  \n",
      "2  http://www.worldbank.org/projects/P145310?lang=en  \n",
      "3  http://www.worldbank.org/projects/P144665?lang=en  \n",
      "4  http://www.worldbank.org/projects/P144933/seco...  \n",
      "5  http://www.worldbank.org/projects/P146161?lang=en  \n",
      "6  http://www.worldbank.org/projects/P121185/firs...  \n",
      "7  http://www.worldbank.org/projects/P127033/chin...  \n",
      "8  http://www.worldbank.org/projects/P130164/raja...  \n",
      "9  http://www.worldbank.org/projects/P130903?lang=en  \n",
      "\n",
      "[10 rows x 55 columns]\n"
     ]
    }
   ],
   "source": [
    "# use normalization to create a table and examine the values\n",
    "print(json_normalize(wb_json_data).head(10))"
   ]
  },
  {
   "cell_type": "code",
   "execution_count": 6,
   "metadata": {},
   "outputs": [
    {
     "name": "stdout",
     "output_type": "stream",
     "text": [
      "0                              Ethiopia\n",
      "1                               Tunisia\n",
      "2                                Tuvalu\n",
      "3                    Yemen, Republic of\n",
      "4                               Lesotho\n",
      "5                                 Kenya\n",
      "6                                 India\n",
      "7                                 China\n",
      "8                                 India\n",
      "9                               Morocco\n",
      "10                          South Sudan\n",
      "11                                India\n",
      "12                                Ghana\n",
      "13                          Timor-Leste\n",
      "14                               Jordan\n",
      "15                                Samoa\n",
      "16                                Samoa\n",
      "17                           Madagascar\n",
      "18                             Cambodia\n",
      "19                              Morocco\n",
      "20                      Kyrgyz Republic\n",
      "21                                Nepal\n",
      "22                               Jordan\n",
      "23                           Tajikistan\n",
      "24                           Azerbaijan\n",
      "25                East Asia and Pacific\n",
      "26     Lao People's Democratic Republic\n",
      "27                      Pacific Islands\n",
      "28                      Solomon Islands\n",
      "29                           Mozambique\n",
      "                     ...               \n",
      "470                             Liberia\n",
      "471                          Bangladesh\n",
      "472                             Armenia\n",
      "473                             Albania\n",
      "474                            Pakistan\n",
      "475                           Indonesia\n",
      "476                             Vietnam\n",
      "477                          Uzbekistan\n",
      "478                            Pakistan\n",
      "479                           Guatemala\n",
      "480                              Zambia\n",
      "481                               India\n",
      "482                               India\n",
      "483                               India\n",
      "484                         Philippines\n",
      "485                            Mongolia\n",
      "486        Middle East and North Africa\n",
      "487                              Mexico\n",
      "488                              Brazil\n",
      "489                    Papua New Guinea\n",
      "490                               Nepal\n",
      "491                  West Bank and Gaza\n",
      "492                            Pakistan\n",
      "493                          Bangladesh\n",
      "494                               Nepal\n",
      "495                             Jamaica\n",
      "496    Lao People's Democratic Republic\n",
      "497                              Guinea\n",
      "498                           Indonesia\n",
      "499                               Kenya\n",
      "Name: countryshortname, Length: 500, dtype: object\n"
     ]
    }
   ],
   "source": [
    "#ensure there are no null values in the countryshortname column\n",
    "wb_transform = json_normalize(wb_json_data)\n",
    "print(wb_transform['countryshortname'])\n",
    "\n",
    "#As there are 500 values for 'countryshortname' and 500 rows in the data, we can assert there are no null values in this column.\n",
    "#This also looks to be the column and data to answer Question 1. Perfect! "
   ]
  },
  {
   "cell_type": "code",
   "execution_count": 7,
   "metadata": {},
   "outputs": [
    {
     "name": "stdout",
     "output_type": "stream",
     "text": [
      "10 Countries with the most projects:\n",
      "China                 19\n",
      "Indonesia             19\n",
      "Vietnam               17\n",
      "India                 16\n",
      "Yemen, Republic of    13\n",
      "Nepal                 12\n",
      "Bangladesh            12\n",
      "Morocco               12\n",
      "Africa                11\n",
      "Mozambique            11\n",
      "Name: countryshortname, dtype: int64\n"
     ]
    }
   ],
   "source": [
    "#convert JSON data into DataFrame\n",
    "wb_json_df = pd.read_json(world_bank_json)\n",
    "\n",
    "#count the instances of each 'countryshortname' value\n",
    "wb_json_country_count = wb_json_df['countryshortname'].value_counts()\n",
    "print('10 Countries with the most projects:')\n",
    "print(wb_json_country_count.head(10))"
   ]
  },
  {
   "cell_type": "markdown",
   "metadata": {},
   "source": [
    "Objective 2: Find the top 10 major project themes (using column 'mjtheme_namecode')"
   ]
  },
  {
   "cell_type": "code",
   "execution_count": 8,
   "metadata": {},
   "outputs": [
    {
     "name": "stdout",
     "output_type": "stream",
     "text": [
      "(500,)\n",
      "(500,)\n"
     ]
    }
   ],
   "source": [
    "#create series on column 'mjtheme_namecode'\n",
    "wb_json_theme_df = wb_json_df['mjtheme_namecode']\n",
    "print(wb_json_theme_df.shape)\n",
    "\n",
    "#checking amount of NaN values\n",
    "print(wb_json_theme_df.dropna().shape)\n",
    "\n",
    "#all rows appear to have data.  However, as per prompt, some values are missing"
   ]
  },
  {
   "cell_type": "code",
   "execution_count": 9,
   "metadata": {},
   "outputs": [
    {
     "data": {
      "text/plain": [
       "[{'code': '8', 'name': 'Human development'}, {'code': '11', 'name': ''}]"
      ]
     },
     "execution_count": 9,
     "metadata": {},
     "output_type": "execute_result"
    }
   ],
   "source": [
    "#getting a sense of the objects in each row\n",
    "wb_json_theme_df[0]"
   ]
  },
  {
   "cell_type": "code",
   "execution_count": 10,
   "metadata": {},
   "outputs": [
    {
     "name": "stdout",
     "output_type": "stream",
     "text": [
      "10 Major Project themes:\n",
      "Environment and natural resources management    223\n",
      "Rural development                               202\n",
      "Human development                               197\n",
      "Public sector governance                        184\n",
      "Social protection and risk management           158\n",
      "Financial and private sector development        130\n",
      "                                                122\n",
      "Social dev/gender/inclusion                     119\n",
      "Trade and integration                            72\n",
      "Urban development                                47\n",
      "Name: name, dtype: int64\n"
     ]
    }
   ],
   "source": [
    "#finding main project themes without additional data cleaning\n",
    "\n",
    "from itertools import chain\n",
    "parsed = (json.loads((wb_json_df.mjtheme_namecode.to_json(orient='values'))))\n",
    "new_parsed_df = pd.DataFrame(list(chain.from_iterable(parsed)))\n",
    "\n",
    "#now applying the .value_counts method to count up instances\n",
    "theme_count = new_parsed_df['name'].value_counts()\n",
    "print('10 Major Project themes:')\n",
    "print(theme_count.head(10))"
   ]
  },
  {
   "cell_type": "code",
   "execution_count": 11,
   "metadata": {},
   "outputs": [
    {
     "data": {
      "text/plain": [
       "{'1': 'Economic management',\n",
       " '10': 'Rural development',\n",
       " '11': 'Environment and natural resources management',\n",
       " '2': 'Public sector governance',\n",
       " '3': 'Rule of law',\n",
       " '4': 'Financial and private sector development',\n",
       " '5': 'Trade and integration',\n",
       " '6': 'Social protection and risk management',\n",
       " '7': 'Social dev/gender/inclusion',\n",
       " '8': 'Human development',\n",
       " '9': 'Urban development'}"
      ]
     },
     "execution_count": 11,
     "metadata": {},
     "output_type": "execute_result"
    }
   ],
   "source": [
    "#map out the theme names to codes\n",
    "name_code_dict = {}\n",
    "for row in new_parsed_df.itertuples():\n",
    "    if row[2] != '':\n",
    "        name_code_dict[row[1]] = row[2]\n",
    "        \n",
    "name_code_dict"
   ]
  },
  {
   "cell_type": "code",
   "execution_count": 12,
   "metadata": {
    "collapsed": true
   },
   "outputs": [],
   "source": [
    "# Fill in missing theme names using the name dictionary\n",
    "for row in new_parsed_df.itertuples():\n",
    "    if row[2] == '':\n",
    "        new_parsed_df.set_value(row[0], 'name', name_code_dict[row[1]])"
   ]
  },
  {
   "cell_type": "code",
   "execution_count": 13,
   "metadata": {},
   "outputs": [
    {
     "name": "stdout",
     "output_type": "stream",
     "text": [
      "Top 10 major project themes with the missing names filled in:\n",
      "Environment and natural resources management    250\n",
      "Rural development                               216\n",
      "Human development                               210\n",
      "Public sector governance                        199\n",
      "Social protection and risk management           168\n",
      "Financial and private sector development        146\n",
      "Social dev/gender/inclusion                     130\n",
      "Trade and integration                            77\n",
      "Urban development                                50\n",
      "Economic management                              38\n",
      "Name: name, dtype: int64\n"
     ]
    }
   ],
   "source": [
    "print('Top 10 major project themes with the missing names filled in:')\n",
    "print(new_parsed_df.name.value_counts().head(10))"
   ]
  },
  {
   "cell_type": "markdown",
   "metadata": {},
   "source": [
    "Compared to the data without the missing \"name\" values filled in given their respective \"code\", we see that the top 10 themes are largely unchanged.  However, we do see the number of instances is considerably different.  For example, the top the theme \"Environment and natural resources management\" went from 223 times to 250.  \n",
    "\n",
    "This finding further indicates that the 122 instances where no theme name existed, was actually an amalgamation of projects where the data had a code but the 'name' field missing.  As a result, we expect the 122 projects are actually dispersed among the 11 themes.  \n",
    "\n",
    "Furthermore, the new theme among the top 10 is \"Economic Development\" which was not previously uncovered. While the 'Rule of Law' theme was absent from both Top 10 findings."
   ]
  }
 ],
 "metadata": {
  "kernelspec": {
   "display_name": "Python 3",
   "language": "python",
   "name": "python3"
  },
  "language_info": {
   "codemirror_mode": {
    "name": "ipython",
    "version": 3
   },
   "file_extension": ".py",
   "mimetype": "text/x-python",
   "name": "python",
   "nbconvert_exporter": "python",
   "pygments_lexer": "ipython3",
   "version": "3.6.2"
  }
 },
 "nbformat": 4,
 "nbformat_minor": 2
}
